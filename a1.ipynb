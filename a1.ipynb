{
 "cells": [
  {
   "cell_type": "markdown",
   "metadata": {},
   "source": [
    "# Create table and insert data"
   ]
  },
  {
   "cell_type": "code",
   "execution_count": null,
   "metadata": {},
   "outputs": [],
   "source": [
    "import psycopg2 as psql # pip install psycopg2\n",
    "\n",
    "# Database connection parameters\n",
    "DB_NAME = 'postgres'\n",
    "DB_USER = ''\n",
    "DB_PASSWORD = 'hawx'\n",
    "DB_HOST = '127.0.0.1'\n",
    "DB_PORT = 5432\n",
    "\n",
    "# Connect to PostgreSQL\n",
    "conn = psql.connect(\n",
    "    dbname=DB_NAME,\n",
    "    user=DB_USER,\n",
    "    password=DB_PASSWORD,\n",
    "    host=DB_HOST,\n",
    "    port=DB_PORT\n",
    ")\n",
    "\n",
    "cur = conn.cursor()\n",
    "\n",
    "#This method adds the reverse of the executed command to rollback_commands list\n",
    "def rollback_log_file(command, rollback_command):\n",
    "    rollback_command.append(command)"
   ]
  },
  {
   "cell_type": "code",
   "execution_count": null,
   "metadata": {},
   "outputs": [],
   "source": [
    "# SQL queries for table creation\n",
    "create_tables = [\n",
    "    \"\"\"\n",
    "    CREATE TABLE IF NOT EXISTS students (\n",
    "        st_id SERIAL PRIMARY KEY,\n",
    "        st_name VARCHAR(20),\n",
    "        st_last VARCHAR(20)\n",
    "    );\n",
    "    \"\"\",\n",
    "    \"\"\"\n",
    "    CREATE TABLE IF NOT EXISTS interests (\n",
    "        --interests_id SERIAL PRIMARY KEY,\n",
    "        student_id INT NOT NULL,\n",
    "        interest VARCHAR(20),\n",
    "        CONSTRAINT fk FOREIGN KEY (student_id) REFERENCES students(st_id) ON DELETE CASCADE\n",
    "    );\n",
    "    \"\"\"\n",
    "]\n",
    "\n",
    "def createTables():\n",
    "    for query in create_tables:\n",
    "        cur.execute(query)\n",
    "        conn.commit()\n",
    "\n",
    "createTables()\n",
    "\n",
    "# SQL queries for sample data insertion\n",
    "insert_data = [\n",
    "    \"\"\"\n",
    "    INSERT INTO students (st_name, st_last) VALUES\n",
    "    ('Konul', 'Gurbanova'),\n",
    "    ('Shahnur', 'Isgandarli'),\n",
    "    ('Natavan', 'Mammadova');\n",
    "    \"\"\",\n",
    "    \"\"\"\n",
    "    INSERT INTO interests (student_id, interest) VALUES\n",
    "    (1, 'Tennis'),\n",
    "    (1, 'Literature'),\n",
    "    (2, 'Math'),\n",
    "    (2, 'Tennis'),\n",
    "    (3, 'Math'),\n",
    "    (3, 'Music'),\n",
    "    (2, 'Football'),\n",
    "    (1, 'Chemistry'),\n",
    "    (3, 'Chess');\n",
    "    \"\"\"\n",
    "]\n",
    "\n",
    "def insertData():\n",
    "    for query in insert_data:\n",
    "        cur.execute(query)\n",
    "        conn.commit()\n",
    "\n",
    "insertData()"
   ]
  },
  {
   "cell_type": "markdown",
   "metadata": {},
   "source": [
    "# Migration (not completed)"
   ]
  },
  {
   "cell_type": "code",
   "execution_count": 1,
   "metadata": {},
   "outputs": [],
   "source": [
    "rollback_command = []\n",
    "def renameColumn(cur, rollback_command):\n",
    "    cur.execute('ALTER TABLE students RENAME COLUMN st_id TO student_id;')\n",
    "    rollback_log_file('ALTER TABLE students RENAME COLUMN student_id TO st_id;', rollback_command)\n",
    "    cur.execute('ALTER TABLE interests RENAME COLUMN interest TO interests;')\n",
    "    rollback_log_file('ALTER TABLE interests RENAME COLUMN interests TO interest;', rollback_command)\n",
    "\n",
    "def changeLenColumn(cur, rollback_command):\n",
    "    cur.execute('ALTER TABLE students ALTER COLUMN st_name TYPE VARCHAR(30);')\n",
    "    rollback_log_file('ALTER TABLE students ALTER COLUMN st_name TYPE VARCHAR(20);', rollback_command)\n",
    "    cur.execute('ALTER TABLE students ALTER COLUMN st_last TYPE VARCHAR(30);')\n",
    "    rollback_log_file('ALTER TABLE students ALTER COLUMN st_last TYPE VARCHAR(20)', rollback_command)"
   ]
  }
 ],
 "metadata": {
  "kernelspec": {
   "display_name": "base",
   "language": "python",
   "name": "python3"
  },
  "language_info": {
   "codemirror_mode": {
    "name": "ipython",
    "version": 3
   },
   "file_extension": ".py",
   "mimetype": "text/x-python",
   "name": "python",
   "nbconvert_exporter": "python",
   "pygments_lexer": "ipython3",
   "version": "3.11.4"
  }
 },
 "nbformat": 4,
 "nbformat_minor": 2
}

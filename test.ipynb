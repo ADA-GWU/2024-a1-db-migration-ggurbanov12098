{
 "cells": [
  {
   "cell_type": "markdown",
   "metadata": {},
   "source": [
    "# Part 1"
   ]
  },
  {
   "cell_type": "code",
   "execution_count": null,
   "metadata": {},
   "outputs": [],
   "source": [
    "import psycopg2 as psql # pip install psycopg2\n",
    "\n",
    "# Database connection parameters\n",
    "DB_NAME = 'postgres'\n",
    "DB_USER = ''\n",
    "DB_PASSWORD = 'hawx'\n",
    "DB_HOST = '127.0.0.1'\n",
    "DB_PORT = 5432\n",
    "\n",
    "# Connect to PostgreSQL\n",
    "conn = psql.connect(\n",
    "    dbname=DB_NAME,\n",
    "    user=DB_USER,\n",
    "    password=DB_PASSWORD,\n",
    "    host=DB_HOST,\n",
    "    port=DB_PORT\n",
    ")\n",
    "\n",
    "cur = conn.cursor()\n",
    "\n",
    "#This method adds the reverse of the executed command to rollback_commands list\n",
    "def rollback_log_file(command, rollback_command):\n",
    "    rollback_command.append(command)"
   ]
  }
 ],
 "metadata": {
  "kernelspec": {
   "display_name": "base",
   "language": "python",
   "name": "python3"
  },
  "language_info": {
   "name": "python",
   "version": "3.11.4"
  }
 },
 "nbformat": 4,
 "nbformat_minor": 2
}
